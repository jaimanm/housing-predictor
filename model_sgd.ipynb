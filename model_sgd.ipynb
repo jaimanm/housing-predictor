{
 "cells": [
  {
   "cell_type": "code",
   "execution_count": null,
   "metadata": {},
   "outputs": [],
   "source": []
  }
 ],
 "metadata": {
  "kernelspec": {
   "display_name": "machine-learning",
   "language": "python",
   "name": "python3"
  },
  "language_info": {
   "name": "python",
   "version": "3.9.15 (main, Nov 24 2022, 14:39:17) [MSC v.1916 64 bit (AMD64)]"
  },
  "orig_nbformat": 4,
  "vscode": {
   "interpreter": {
    "hash": "2fc880d06d7a3365faea241027a0795b05879c315ffe9937f6cc8bfa69e552d7"
   }
  }
 },
 "nbformat": 4,
 "nbformat_minor": 2
}
